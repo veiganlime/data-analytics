{
 "cells": [
  {
   "cell_type": "code",
   "execution_count": 1,
   "metadata": {},
   "outputs": [
    {
     "name": "stdout",
     "output_type": "stream",
     "text": [
      "/Users/lime/src/data-analytics/WebApp_Dashboard\n"
     ]
    }
   ],
   "source": [
    "import sqlite3 as sql\n",
    "import yfinance as yf\n",
    "import matplotlib.pyplot as plt\n",
    "import pandas as pd\n",
    "import numpy as np\n",
    "from pandas_datareader import data as web \n",
    "\n",
    "\n",
    "import os\n",
    "notebook_directory = os.getcwd()\n",
    "print(notebook_directory)\n"
   ]
  },
  {
   "cell_type": "code",
   "execution_count": 2,
   "metadata": {},
   "outputs": [],
   "source": [
    "\n",
    "\n",
    "\n",
    "\n",
    "def load_data():\n",
    "    # Load the data from SQL database\n",
    "    conn = sql.connect('/Users/lime/src/data-analytics/data/Crypto.db') \n",
    "    df_sum = pd.read_sql_query(\"SELECT * FROM PORTFOLIO\", conn)\n",
    "    conn.close\n",
    "\n",
    "    # Data preparation\n",
    "    df_sum['TotalAmount'] = df_sum.groupby('Ticker')['Amount'].transform('sum')\n",
    "    df_sum.rename(columns={'TotalAmount':'Quantity'}, inplace=True)\n",
    "\n",
    "    pd.set_option('display.float_format', '{:.6f}'.format)\n",
    "    df_prepeared = df_sum[['Ticker', 'Quantity']].drop_duplicates()\n",
    "    tickers_to_drop = ['VTX', 'CITY', 'IONX']# Drop a few rows for now due to an issue with the market maker. In the future, try using API requests with another financial aggregator.\n",
    "    df_prepeared = df_prepeared[~df_prepeared['Ticker'].isin(tickers_to_drop)]\n",
    "\n",
    "    return df_prepeared, df_sum"
   ]
  },
  {
   "cell_type": "code",
   "execution_count": 3,
   "metadata": {},
   "outputs": [],
   "source": [
    "df_prepeared, df_sum = load_data()"
   ]
  },
  {
   "cell_type": "code",
   "execution_count": 4,
   "metadata": {},
   "outputs": [
    {
     "name": "stdout",
     "output_type": "stream",
     "text": [
      "   Ticker\n",
      "0     TWT\n",
      "1     BTC\n",
      "2     ETH\n",
      "3     BNB\n",
      "4     JOE\n",
      "5    MINA\n",
      "6   MATIC\n",
      "7    AVAX\n",
      "8    ATOM\n",
      "9    DYDX\n",
      "10    SOL\n",
      "11  1INCH\n",
      "12    TON\n",
      "13    DOT\n",
      "14    KSM\n",
      "15   PERP\n",
      "16   KAVA\n",
      "17    ILV\n",
      "18   ASTR\n",
      "19    GRT\n",
      "20   ALCX\n",
      "21    UNI\n",
      "22    RVN\n",
      "23    APT\n",
      "24    XRP\n",
      "25   ANKR\n",
      "26    TRX\n",
      "27    CVX\n",
      "28    LTO\n",
      "29    ENJ\n",
      "30  OCEAN\n",
      "31   BICO\n",
      "32    ONE\n",
      "33  SUSHI\n",
      "34   DOGE\n",
      "35   MANA\n",
      "36    EOS\n",
      "37   SHIB\n",
      "38   SAND\n",
      "39    MOB\n",
      "40    CRV\n",
      "41  PORTO\n",
      "42   LUNA\n",
      "43   LUNC\n",
      "44    XVG\n",
      "45    KAR\n",
      "46   TOKE\n",
      "47   SAKE\n",
      "48    IMX\n"
     ]
    }
   ],
   "source": [
    "df_prepeared = df_prepeared.drop(\"Quantity\", axis=1)\n",
    "df_prepeared = df_prepeared.drop_duplicates(subset='Ticker')\n",
    "df_prepeared = df_prepeared.reset_index(drop=True)\n",
    "\n",
    "print(df_prepeared)\n"
   ]
  },
  {
   "cell_type": "code",
   "execution_count": 5,
   "metadata": {},
   "outputs": [
    {
     "name": "stdout",
     "output_type": "stream",
     "text": [
      "   Ticker\n",
      "0     TWT\n",
      "1     BTC\n",
      "2     ETH\n",
      "3     BNB\n",
      "4     JOE\n",
      "5    MINA\n",
      "6   MATIC\n",
      "7    AVAX\n",
      "8    ATOM\n",
      "9    DYDX\n",
      "10    SOL\n",
      "11  1INCH\n",
      "12    TON\n",
      "13    DOT\n",
      "14    KSM\n",
      "15   PERP\n",
      "16   KAVA\n",
      "17    ILV\n",
      "18   ASTR\n",
      "19    GRT\n",
      "20   ALCX\n",
      "21    UNI\n",
      "22    RVN\n",
      "23    APT\n",
      "24    XRP\n",
      "25   ANKR\n",
      "26    TRX\n",
      "27    CVX\n",
      "28    LTO\n",
      "29    ENJ\n",
      "30  OCEAN\n",
      "31   BICO\n",
      "32    ONE\n",
      "33  SUSHI\n",
      "34   DOGE\n",
      "35   MANA\n",
      "36    EOS\n",
      "37   SHIB\n",
      "38   SAND\n",
      "39    MOB\n",
      "40    CRV\n",
      "41  PORTO\n",
      "42   LUNA\n",
      "43   LUNC\n",
      "44    XVG\n",
      "45    KAR\n",
      "46   TOKE\n",
      "47   SAKE\n",
      "48    IMX\n"
     ]
    }
   ],
   "source": [
    "df_prepeared = df_prepeared.reset_index(drop=True)\n",
    "print(df_prepeared)"
   ]
  },
  {
   "cell_type": "code",
   "execution_count": 6,
   "metadata": {},
   "outputs": [],
   "source": [
    "def insert_data(conn, df_prepeared):\n",
    "    conn.execute('''INSERT INTO TOKENSINFO (Ticker, Information) VALUES (?, ?)''', (df_prepeared, ''))\n",
    "    conn.commit()\n",
    "\n"
   ]
  },
  {
   "cell_type": "code",
   "execution_count": 7,
   "metadata": {},
   "outputs": [],
   "source": [
    "conn = sql.connect('/Users/lime/src/data-analytics/data/Crypto.db')\n",
    "\n",
    "\n",
    "for index, row in df_prepeared.iterrows():\n",
    "    ticker = row['Ticker']\n",
    "    insert_data(conn, ticker)\n",
    "conn.commit()\n",
    "conn.close()"
   ]
  },
  {
   "cell_type": "code",
   "execution_count": null,
   "metadata": {},
   "outputs": [],
   "source": []
  },
  {
   "cell_type": "code",
   "execution_count": null,
   "metadata": {},
   "outputs": [],
   "source": []
  },
  {
   "cell_type": "code",
   "execution_count": null,
   "metadata": {},
   "outputs": [],
   "source": []
  },
  {
   "cell_type": "code",
   "execution_count": null,
   "metadata": {},
   "outputs": [],
   "source": []
  }
 ],
 "metadata": {
  "kernelspec": {
   "display_name": "Python 3",
   "language": "python",
   "name": "python3"
  },
  "language_info": {
   "codemirror_mode": {
    "name": "ipython",
    "version": 3
   },
   "file_extension": ".py",
   "mimetype": "text/x-python",
   "name": "python",
   "nbconvert_exporter": "python",
   "pygments_lexer": "ipython3",
   "version": "3.9.6"
  }
 },
 "nbformat": 4,
 "nbformat_minor": 2
}
