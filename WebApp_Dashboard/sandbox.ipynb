{
 "cells": [
  {
   "cell_type": "code",
   "execution_count": null,
   "metadata": {},
   "outputs": [],
   "source": [
    "import sqlite3 as sql\n",
    "import yfinance as yf\n",
    "import matplotlib.pyplot as plt\n",
    "import pandas as pd\n",
    "import numpy as np\n",
    "from pandas_datareader import data as web \n",
    "\n",
    "\n",
    "import os\n",
    "notebook_directory = os.getcwd()\n",
    "print(notebook_directory)\n"
   ]
  },
  {
   "cell_type": "code",
   "execution_count": null,
   "metadata": {},
   "outputs": [],
   "source": [
    "\n",
    "\n",
    "\n",
    "\n",
    "def load_data():\n",
    "    # Load the data from SQL database\n",
    "    conn = sql.connect('/Users/lime/src/data-analytics/data/Crypto.db') \n",
    "    df_sum = pd.read_sql_query(\"SELECT * FROM PORTFOLIO\", conn)\n",
    "    conn.close\n",
    "\n",
    "    # Data preparation\n",
    "    df_sum['TotalAmount'] = df_sum.groupby('Ticker')['Amount'].transform('sum')\n",
    "    df_sum.rename(columns={'TotalAmount':'Quantity'}, inplace=True)\n",
    "\n",
    "    pd.set_option('display.float_format', '{:.6f}'.format)\n",
    "    df_prepeared = df_sum[['Ticker', 'Quantity']].drop_duplicates()\n",
    "    tickers_to_drop = ['VTX', 'CITY', 'IONX']# Drop a few rows for now due to an issue with the market maker. In the future, try using API requests with another financial aggregator.\n",
    "    df_prepeared = df_prepeared[~df_prepeared['Ticker'].isin(tickers_to_drop)]\n",
    "\n",
    "    return df_prepeared, df_sum"
   ]
  },
  {
   "cell_type": "code",
   "execution_count": null,
   "metadata": {},
   "outputs": [],
   "source": [
    "df_prepeared, df_sum = load_data()"
   ]
  },
  {
   "cell_type": "code",
   "execution_count": null,
   "metadata": {},
   "outputs": [],
   "source": [
    "df_prepeared = df_prepeared.drop(\"Quantity\", axis=1)\n",
    "df_prepeared = df_prepeared.drop_duplicates(subset='Ticker')\n",
    "df_prepeared = df_prepeared.reset_index(drop=True)\n",
    "\n",
    "print(df_prepeared)\n"
   ]
  },
  {
   "cell_type": "code",
   "execution_count": null,
   "metadata": {},
   "outputs": [],
   "source": [
    "df_prepeared = df_prepeared.reset_index(drop=True)\n",
    "print(df_prepeared)"
   ]
  },
  {
   "cell_type": "code",
   "execution_count": null,
   "metadata": {},
   "outputs": [],
   "source": [
    "def insert_data(conn, df_prepeared):\n",
    "    conn.execute('''INSERT INTO TOKENSINFO (Ticker, Information) VALUES (?, ?)''', (df_prepeared, ''))\n",
    "    conn.commit()\n",
    "\n"
   ]
  },
  {
   "cell_type": "code",
   "execution_count": null,
   "metadata": {},
   "outputs": [],
   "source": [
    "conn = sql.connect('/Users/lime/src/data-analytics/data/Crypto.db')\n",
    "\n",
    "\n",
    "for index, row in df_prepeared.iterrows():\n",
    "    ticker = row['Ticker']\n",
    "    insert_data(conn, ticker)\n",
    "conn.commit()\n",
    "conn.close()"
   ]
  },
  {
   "cell_type": "code",
   "execution_count": null,
   "metadata": {},
   "outputs": [],
   "source": []
  },
  {
   "cell_type": "code",
   "execution_count": null,
   "metadata": {},
   "outputs": [],
   "source": []
  },
  {
   "cell_type": "code",
   "execution_count": null,
   "metadata": {},
   "outputs": [],
   "source": []
  },
  {
   "cell_type": "code",
   "execution_count": null,
   "metadata": {},
   "outputs": [],
   "source": []
  }
 ],
 "metadata": {
  "kernelspec": {
   "display_name": "Python 3",
   "language": "python",
   "name": "python3"
  },
  "language_info": {
   "codemirror_mode": {
    "name": "ipython",
    "version": 3
   },
   "file_extension": ".py",
   "mimetype": "text/x-python",
   "name": "python",
   "nbconvert_exporter": "python",
   "pygments_lexer": "ipython3",
   "version": "3.9.6"
  }
 },
 "nbformat": 4,
 "nbformat_minor": 2
}
