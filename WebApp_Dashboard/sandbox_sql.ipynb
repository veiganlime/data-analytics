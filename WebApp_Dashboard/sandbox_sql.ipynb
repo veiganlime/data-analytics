{
 "cells": [
  {
   "cell_type": "code",
   "execution_count": null,
   "metadata": {},
   "outputs": [],
   "source": [
    "import sqlite3 as sql\n",
    "import yfinance as yf\n",
    "import matplotlib.pyplot as plt\n",
    "import pandas as pd\n",
    "import numpy as np\n",
    "from pandas_datareader import data as web \n",
    "\n",
    "\n",
    "import os\n",
    "notebook_directory = os.getcwd()\n",
    "print(notebook_directory)\n"
   ]
  },
  {
   "cell_type": "markdown",
   "metadata": {},
   "source": [
    "# DATAFRAME PREPARATION"
   ]
  },
  {
   "cell_type": "code",
   "execution_count": null,
   "metadata": {},
   "outputs": [],
   "source": [
    "stock_data = yf.download(tickers=\"IMX-USD\", period = 'max', interval = '1d')\n",
    "\n",
    "\n",
    "stock_data['CRYPTOCURRENCY_ID'] = 49\n",
    "\n",
    "stock_data.reset_index(inplace=True)\n",
    "stock_data['Date']  = pd.to_datetime(stock_data['Date'])\n",
    "column_mapping = {\n",
    "    'Date': 'TIMESTAMP',\n",
    "    'Adj Close': 'PRICE',  \n",
    "    'Volume': 'VOLUME'  \n",
    "}\n",
    "stock_data.rename(columns=column_mapping, inplace=True)\n",
    "stock_data.drop(columns=['Open'], inplace=True)\n",
    "stock_data.drop(columns=['High'], inplace=True)\n",
    "stock_data.drop(columns=['Low'], inplace=True)\n",
    "stock_data.drop(columns=['Close'], inplace=True)\n",
    "stock_data.reset_index(drop=True, inplace=True)\n",
    "stock_data"
   ]
  },
  {
   "cell_type": "markdown",
   "metadata": {},
   "source": [
    "# INSERT DATAFRAME"
   ]
  },
  {
   "cell_type": "code",
   "execution_count": null,
   "metadata": {},
   "outputs": [],
   "source": [
    "stock_data.reset_index(drop=True, inplace=True)\n",
    "\n",
    "\n",
    "conn = sql.connect('/Users/lime/src/data-analytics/data/Crypto.db')\n",
    "\n",
    "column_mapping = {\n",
    "    'TIMESTAMP': 'TIMESTAMP',\n",
    "    'PRICE': 'PRICE',\n",
    "    'VOLUME': 'VOLUME',\n",
    "    'CRYPTOCURRENCY_ID': 'CRYPTOCURRENCY_ID'\n",
    "}\n",
    "\n",
    "stock_data.rename(columns=column_mapping).to_sql('HISTORICAL_PRICES', conn, if_exists='append', index=False)\n",
    "\n",
    "conn.commit()\n",
    "conn.close()"
   ]
  },
  {
   "cell_type": "markdown",
   "metadata": {},
   "source": [
    "# TABLE DEFINITION"
   ]
  },
  {
   "cell_type": "code",
   "execution_count": null,
   "metadata": {},
   "outputs": [],
   "source": [
    "create_crp_table = '''CREATE TABLE IF NOT EXISTS CRYPTOCURRENCIES\n",
    "    (ID INTEGER PRIMARY KEY AUTOINCREMENT,\n",
    "    TICKER TEXT NOT NULL,\n",
    "    NAME TEXT NOT NULL,\n",
    "    DESCRIPTION TEXT,\n",
    "    UNIQUE (ticker)\n",
    ")'''\n",
    "\n",
    "\n",
    "create_hp_table = '''CREATE TABLE IF NOT EXISTS HISTORICAL_PRICES\n",
    "    (ID INTEGER PRIMARY KEY AUTOINCREMENT,\n",
    "    CRYPTOCURRENCY_ID INTEGER,\n",
    "    TIMESTAMP DATETIME,\n",
    "    PRICE DECIMAL(10, 10),\n",
    "    VOLUME DECIMAL(10, 10),\n",
    "    FOREIGN KEY (CRYPTOCURRENCY_ID) REFERENCES CRYPTOCURRENCIES(ID)\n",
    ")'''\n",
    "\n",
    "create_index = '''CREATE INDEX IF NOT EXISTS idx_timestamp ON HISTORICAL_PRICES (TIMESTAMP)'''\n"
   ]
  },
  {
   "cell_type": "code",
   "execution_count": null,
   "metadata": {},
   "outputs": [],
   "source": [
    "conn = sql.connect('/Users/lime/src/data-analytics/data/Crypto.db')\n",
    "conn.execute(create_crp_table)\n",
    "conn.execute(create_hp_table)\n",
    "conn.execute(create_index)\n",
    "conn.commit()\n",
    "conn.close()"
   ]
  },
  {
   "cell_type": "code",
   "execution_count": null,
   "metadata": {},
   "outputs": [],
   "source": [
    "conn = sql.connect('/Users/lime/src/data-analytics/data/test.db')\n",
    "\n",
    "conn.execute(\"INSERT INTO CRYPTOCURRENCIES (SYMBOL, NAME, DESCRIPTION) VALUES ('BTC', 'Bitcoin', 'Network')\")\n",
    "\n",
    "\n",
    "conn.commit()\n",
    "conn.close()"
   ]
  },
  {
   "cell_type": "markdown",
   "metadata": {},
   "source": [
    "# DELETE database"
   ]
  },
  {
   "cell_type": "code",
   "execution_count": null,
   "metadata": {},
   "outputs": [],
   "source": [
    "\n",
    "conn = sql.connect('/Users/lime/src/data-analytics/data/Crypto.db')\n",
    "\n",
    "conn.execute(\"DROP TABLE IF EXISTS HISTORICAL_PRICES\")\n",
    "\n",
    "\n",
    "conn.commit()\n",
    "\n",
    "conn.close()"
   ]
  },
  {
   "cell_type": "markdown",
   "metadata": {},
   "source": [
    "# READ TABLE"
   ]
  },
  {
   "cell_type": "code",
   "execution_count": null,
   "metadata": {},
   "outputs": [],
   "source": [
    "\n",
    "conn = sql.connect('/Users/lime/src/data-analytics/data/Crypto.db')\n",
    "\n",
    "df_sum = pd.read_sql_query(\"SELECT * FROM TOKENSINFO\", conn)\n",
    "\n",
    "\n",
    "conn.commit()\n",
    "\n",
    "conn.close()"
   ]
  },
  {
   "cell_type": "markdown",
   "metadata": {},
   "source": [
    "# RENAME COLUMNS IN DATAFRAME"
   ]
  },
  {
   "cell_type": "code",
   "execution_count": null,
   "metadata": {},
   "outputs": [],
   "source": [
    "df_sum.reset_index(drop=True, inplace=True)\n",
    "\n",
    "\n",
    "column_mapping = {\n",
    "    'Information': 'DESCRIPTION',\n",
    "    'Ticker' : 'TICKER'\n",
    "}\n",
    "\n",
    "df_sum.rename(columns=column_mapping, inplace=True)"
   ]
  },
  {
   "cell_type": "markdown",
   "metadata": {},
   "source": [
    "# SELECT A TABLE FROM DB"
   ]
  },
  {
   "cell_type": "code",
   "execution_count": null,
   "metadata": {},
   "outputs": [],
   "source": [
    "conn = sql.connect('/Users/lime/src/data-analytics/data/Crypto.db')\n",
    "\n",
    "\n",
    "query = '''SELECT * FROM HISTORICAL_PRICES WHERE CRYPTOCURRENCY_ID = 2'''\n",
    "\n",
    "df = pd.read_sql_query(query, conn)\n",
    "\n",
    "conn.close()\n",
    "df"
   ]
  },
  {
   "cell_type": "markdown",
   "metadata": {},
   "source": [
    "# RENAME TABLE"
   ]
  },
  {
   "cell_type": "code",
   "execution_count": null,
   "metadata": {},
   "outputs": [],
   "source": [
    "conn = sql.connect('/Users/lime/src/data-analytics/data/Crypto.db')\n",
    "cursor = conn.cursor()\n",
    "\n",
    "\n",
    "cursor.execute('CREATE TABLE HISTORICAL_PRICES_1D AS SELECT * FROM HISTORICAL_PRICES;')\n",
    "\n",
    "cursor.execute('DROP TABLE HISTORICAL_PRICES;')\n",
    "\n",
    "\n",
    "conn.commit()\n",
    "conn.close()"
   ]
  },
  {
   "cell_type": "markdown",
   "metadata": {},
   "source": [
    "# LOAD THE DATA FROM SQL DB "
   ]
  },
  {
   "cell_type": "code",
   "execution_count": null,
   "metadata": {},
   "outputs": [],
   "source": [
    "conn = sql.connect('/Users/lime/src/data-analytics/data/Crypto.db')\n",
    "\n",
    "\n",
    "query = '''SELECT TICKER FROM CRYPTOCURRENCIES '''\n",
    "\n",
    "df = pd.read_sql_query(query, conn)\n",
    "\n",
    "conn.close()\n",
    "df = df.rename(index=lambda x: x + 1)\n",
    "df"
   ]
  },
  {
   "cell_type": "markdown",
   "metadata": {},
   "source": [
    "# LOAD THE DATA FROM SQL DB AND SAVE EACH TICKER IN SEPARETE DF"
   ]
  },
  {
   "cell_type": "code",
   "execution_count": 17,
   "metadata": {},
   "outputs": [],
   "source": [
    "conn = sql.connect('/Users/lime/src/data-analytics/data/Crypto.db')\n",
    "\n",
    "for index, row in df.iterrows():\n",
    "    ticker = row['TICKER']\n",
    "\n",
    "    query = f'''SELECT * FROM HISTORICAL_PRICES_1D WHERE CRYPTOCURRENCY_ID = {index}'''\n",
    "    \n",
    "    globals()[f'query_dict_{ticker.lower()}'] = pd.read_sql_query(query, conn)\n",
    "\n",
    "conn.close()"
   ]
  }
 ],
 "metadata": {
  "kernelspec": {
   "display_name": "Python 3",
   "language": "python",
   "name": "python3"
  },
  "language_info": {
   "codemirror_mode": {
    "name": "ipython",
    "version": 3
   },
   "file_extension": ".py",
   "mimetype": "text/x-python",
   "name": "python",
   "nbconvert_exporter": "python",
   "pygments_lexer": "ipython3",
   "version": "3.9.6"
  }
 },
 "nbformat": 4,
 "nbformat_minor": 2
}
