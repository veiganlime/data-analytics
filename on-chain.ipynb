{
 "cells": [
  {
   "cell_type": "code",
   "execution_count": 2,
   "metadata": {},
   "outputs": [
    {
     "name": "stdout",
     "output_type": "stream",
     "text": [
      "Hello world!\n"
     ]
    }
   ],
   "source": [
    "import pandas as pd \n",
    "import matplotlib.pyplot as plt \n",
    "import numpy as np\n",
    "from datetime import date, timedelta, datetime\n",
    "import seaborn as sns\n",
    "#import cryptocompare as cc\n",
    "import requests\n",
    "#import IPython\n",
    "import yaml\n",
    "import json\n",
    "\n",
    "yaml_file = open('api_key/api_config_cc.yml', 'r')\n",
    "p = yaml.load(yaml_file, Loader=yaml.FullLoader)\n",
    "api_key = p['api_key']\n",
    "\n",
    "data_limit = 2000\n",
    "\n",
    "btc = 'BTC'\n",
    "eth = 'ETH'\n",
    "\n",
    "def api_request(url):\n",
    "    headers = {'authorization': 'Apikey' + api_key} \n",
    "    session = requests.Session()\n",
    "    session.headers.update(headers)\n",
    "\n",
    "    response = session.get(url)\n",
    "\n",
    "    blockchain_data_dict = json.loads(response.text)\n",
    "\n",
    "    df = pd.DataFrame.from_dict(blockchain_data_dict.get('Data').get('Data'), orient='columns', dtype=None,columns=None)\n",
    "\n",
    "    return(df)\n",
    "def prepare_pricedata(df):\n",
    "    df['date'] = pd.to_datetime(df['time'], unit='s')\n",
    "    df.drop(columns=['time', 'conversionType', 'conversionSymbol'], inplace=True)\n",
    "    return df\n",
    "\n",
    "base_url = 'https://min-api.cryptocompare.com/data/price?fsym=BTC&tsym='\n",
    "df_btc = api_request(f'{base_url}{btc}&sym=USD&limit={data_limit}')\n",
    "print(df_btc.head(3))\n",
    "\n",
    "# btc_price_df = prepare_pricedata(df_btc)\n",
    "# df_eth = api_request(f'{base_url}{eth}&sym=USD&limit={data_limit}')\n",
    "# eth_price_df = prepare_pricedata(df_eth)\n",
    "# print(eth_price_df.head(3))"
   ]
  }
 ],
 "metadata": {
  "kernelspec": {
   "display_name": "Python 3",
   "language": "python",
   "name": "python3"
  },
  "language_info": {
   "codemirror_mode": {
    "name": "ipython",
    "version": 3
   },
   "file_extension": ".py",
   "mimetype": "text/x-python",
   "name": "python",
   "nbconvert_exporter": "python",
   "pygments_lexer": "ipython3",
   "version": "3.10.11"
  },
  "orig_nbformat": 4
 },
 "nbformat": 4,
 "nbformat_minor": 2
}
